{
 "cells": [
  {
   "cell_type": "code",
   "execution_count": 1,
   "id": "70a414f9",
   "metadata": {},
   "outputs": [
    {
     "name": "stdout",
     "output_type": "stream",
     "text": [
      "Twinkle, twinkle, little star,\n",
      "How I wonder what you are!\n",
      "Up above the world so high,\n",
      "Like a diamond in the sky.\n",
      "\n",
      "Twinkle, twinkle, little star,\n",
      "How I wonder what you are\n"
     ]
    }
   ],
   "source": [
    "print('''Twinkle, twinkle, little star,\n",
    "How I wonder what you are!\n",
    "Up above the world so high,\n",
    "Like a diamond in the sky.\n",
    "\n",
    "Twinkle, twinkle, little star,\n",
    "How I wonder what you are''')"
   ]
  },
  {
   "cell_type": "code",
   "execution_count": 6,
   "id": "44d600e2",
   "metadata": {},
   "outputs": [
    {
     "name": "stdout",
     "output_type": "stream",
     "text": [
      "3.9.7\n"
     ]
    }
   ],
   "source": [
    "# 2. Write a Python program to get the Python version you are using\n",
    "\n",
    "from platform import python_version\n",
    "print(python_version())"
   ]
  },
  {
   "cell_type": "code",
   "execution_count": 14,
   "id": "fc06c075",
   "metadata": {},
   "outputs": [
    {
     "name": "stdout",
     "output_type": "stream",
     "text": [
      "Current date and time:  2021-10-24 15:32:08.187529\n"
     ]
    }
   ],
   "source": [
    "# 3. Write a Python program to display the current date and time.\n",
    "\n",
    "from datetime import datetime\n",
    "\n",
    "now = datetime.now()\n",
    "print(\"Current date and time: \", now)\n"
   ]
  },
  {
   "cell_type": "code",
   "execution_count": 15,
   "id": "bab71b45",
   "metadata": {},
   "outputs": [
    {
     "name": "stdout",
     "output_type": "stream",
     "text": [
      " Input the radius of the circle : 25\n",
      " The area of the circle with radius 25.0 is: 1963.4954084936207\n"
     ]
    }
   ],
   "source": [
    "# 4. Write a Python program which accepts the radius of a circle from the user and compute the area.\n",
    "\n",
    "from math import pi\n",
    "r = float(input (\" Input the radius of the circle : \"))\n",
    "print (\" The area of the circle with radius \" + str(r) + \" is: \" + str(pi * r**2))\n"
   ]
  },
  {
   "cell_type": "code",
   "execution_count": 19,
   "id": "961921a0",
   "metadata": {},
   "outputs": [
    {
     "name": "stdout",
     "output_type": "stream",
     "text": [
      "Input your First Name : Hafsa\n",
      "Input your Last Name : Sohail\n",
      "Hello Sohail Hafsa\n"
     ]
    }
   ],
   "source": [
    "# 5. Write a Python program which accepts the user's first and last name and print them in reverse order with a space between them.\n",
    "\n",
    "firname = input(\"Input your First Name : \")\n",
    "lastname = input(\"Input your Last Name : \")\n",
    "print (\"Hello \" + lastname + \" \" + firname)"
   ]
  },
  {
   "cell_type": "code",
   "execution_count": 1,
   "id": "91d8b904",
   "metadata": {},
   "outputs": [
    {
     "name": "stdout",
     "output_type": "stream",
     "text": [
      "enter first number: 1\n",
      "enter second number: 5\n",
      "sum: 6\n"
     ]
    }
   ],
   "source": [
    "# 6. Write a python program which takes two inputs from user and print them addition\n",
    "\n",
    "a = int(input(\"enter first number: \"))\n",
    "b = int(input(\"enter second number: \"))\n",
    " \n",
    "sum = a + b\n",
    " \n",
    "print(\"sum:\", sum)"
   ]
  },
  {
   "cell_type": "code",
   "execution_count": 3,
   "id": "4c069b64",
   "metadata": {},
   "outputs": [
    {
     "name": "stdout",
     "output_type": "stream",
     "text": [
      "Enter your marks of Mathematics' marks : 42\n",
      "Enter your English's marks : 35\n",
      "Enter your Islamiat's marks : 45\n",
      "Enter your History's marks : 15\n",
      "Enter your Computer's marks : 65\n",
      "Total Marks :  202\n",
      "percentage : 40.4\n",
      "Grade F\n"
     ]
    }
   ],
   "source": [
    "# 7. Write a program which takes 5 inputs from user for different subject’s marks, total it and generate mark sheet using grades?\n",
    "\n",
    "maths = int(input(\"Enter your marks of Mathematics' marks : \"))\n",
    "english = int(input(\"Enter your English's marks : \"))\n",
    "islamiat = int(input(\"Enter your Islamiat's marks : \"))\n",
    "history = int(input(\"Enter your History's marks : \"))\n",
    "computer = int(input(\"Enter your Computer's marks : \"))\n",
    "\n",
    "total = maths + english + islamiat + history + computer\n",
    "print(\"Total Marks : \" , total)\n",
    "\n",
    "Percentage = total*100/500\n",
    "print(\"percentage :\" , Percentage)\n",
    "if Percentage < 50 : print(\"Grade F\")\n",
    "elif Percentage < 60 : print(\"Grade C\")\n",
    "elif Percentage < 70 : print(\"Grade B\")\n",
    "elif Percentage < 80 : print(\"Grade A\")\n",
    "else : print(\"Grade A+\")\n"
   ]
  },
  {
   "cell_type": "code",
   "execution_count": 8,
   "id": "23b04155",
   "metadata": {},
   "outputs": [
    {
     "name": "stdout",
     "output_type": "stream",
     "text": [
      "Enter a number: 45\n",
      "45 is an odd number.\n"
     ]
    }
   ],
   "source": [
    "# 8. Write a program which take input from user and identify that the given number is even or odd?\n",
    "\n",
    "num = int(input(\"Enter a number: \"))\n",
    "a = num % 2\n",
    "if a > 0:\n",
    "    print(num , \"is an odd number.\")\n",
    "else:\n",
    "    print(num , \"is a even number.\")"
   ]
  },
  {
   "cell_type": "code",
   "execution_count": 10,
   "id": "15cf3194",
   "metadata": {},
   "outputs": [
    {
     "name": "stdout",
     "output_type": "stream",
     "text": [
      "Number of items in the list =  4\n"
     ]
    }
   ],
   "source": [
    "# 9. Write a program which print the length of the list?\n",
    "\n",
    "list = [\"Hafsa\",\"Zainab\",\"Areesha\",45]\n",
    "print(\"Number of items in the list = \", len(list))"
   ]
  },
  {
   "cell_type": "code",
   "execution_count": 13,
   "id": "42bbd138",
   "metadata": {},
   "outputs": [
    {
     "name": "stdout",
     "output_type": "stream",
     "text": [
      "Sum of given list :  263\n"
     ]
    }
   ],
   "source": [
    "# 10. Write a Python program to sum all the numeric items in a list?\n",
    "\n",
    "numList = [45,85,79,54]\n",
    "print(\"Sum of given list : \" , sum(numList))"
   ]
  },
  {
   "cell_type": "code",
   "execution_count": 15,
   "id": "ff1dd5d1",
   "metadata": {},
   "outputs": [
    {
     "name": "stdout",
     "output_type": "stream",
     "text": [
      "Sum of given list :  150\n"
     ]
    }
   ],
   "source": [
    "# 11. Write a Python program to get the largest number from a numeric list.\n",
    "\n",
    "numList = [45,85,79,54,150]\n",
    "print(\"Sum of given list : \" , max(numList))\n"
   ]
  },
  {
   "cell_type": "code",
   "execution_count": 20,
   "id": "f76c09a7",
   "metadata": {},
   "outputs": [
    {
     "name": "stdout",
     "output_type": "stream",
     "text": [
      "1\n",
      "1\n",
      "2\n",
      "3\n"
     ]
    }
   ],
   "source": [
    "# 12. Write a program that prints out all the elements of the list that are less than 5.\n",
    "\n",
    "list = [1, 1, 2, 3, 5, 8, 13, 21, 34, 55, 89]\n",
    "for i in list:\n",
    "    if i < 5:\n",
    "        print(i)"
   ]
  },
  {
   "cell_type": "code",
   "execution_count": null,
   "id": "2d0c46df",
   "metadata": {},
   "outputs": [],
   "source": []
  }
 ],
 "metadata": {
  "kernelspec": {
   "display_name": "Python 3 (ipykernel)",
   "language": "python",
   "name": "python3"
  },
  "language_info": {
   "codemirror_mode": {
    "name": "ipython",
    "version": 3
   },
   "file_extension": ".py",
   "mimetype": "text/x-python",
   "name": "python",
   "nbconvert_exporter": "python",
   "pygments_lexer": "ipython3",
   "version": "3.9.7"
  }
 },
 "nbformat": 4,
 "nbformat_minor": 5
}
